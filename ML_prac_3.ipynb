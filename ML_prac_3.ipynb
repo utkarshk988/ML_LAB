{
  "nbformat": 4,
  "nbformat_minor": 0,
  "metadata": {
    "colab": {
      "provenance": []
    },
    "kernelspec": {
      "name": "python3",
      "display_name": "Python 3"
    },
    "language_info": {
      "name": "python"
    }
  },
  "cells": [
    {
      "cell_type": "code",
      "execution_count": 3,
      "metadata": {
        "colab": {
          "base_uri": "https://localhost:8080/"
        },
        "id": "c-YzK0H27uKl",
        "outputId": "54ce0c50-c875-4a00-fa13-a014d1f2576e"
      },
      "outputs": [
        {
          "output_type": "stream",
          "name": "stdout",
          "text": [
            "<class 'pandas.core.frame.DataFrame'>\n",
            "RangeIndex: 506 entries, 0 to 505\n",
            "Data columns (total 14 columns):\n",
            " #   Column   Non-Null Count  Dtype  \n",
            "---  ------   --------------  -----  \n",
            " 0   crim     506 non-null    float64\n",
            " 1   zn       506 non-null    float64\n",
            " 2   indus    506 non-null    float64\n",
            " 3   chas     506 non-null    int64  \n",
            " 4   nox      506 non-null    float64\n",
            " 5   rm       506 non-null    float64\n",
            " 6   age      506 non-null    float64\n",
            " 7   dis      506 non-null    float64\n",
            " 8   rad      506 non-null    int64  \n",
            " 9   tax      506 non-null    int64  \n",
            " 10  ptratio  506 non-null    float64\n",
            " 11  b        506 non-null    float64\n",
            " 12  lstat    506 non-null    float64\n",
            " 13  medv     506 non-null    float64\n",
            "dtypes: float64(11), int64(3)\n",
            "memory usage: 55.5 KB\n",
            "None\n",
            "      crim    zn  indus  chas    nox  ...  tax  ptratio       b  lstat  medv\n",
            "0  0.00632  18.0   2.31     0  0.538  ...  296     15.3  396.90   4.98  24.0\n",
            "1  0.02731   0.0   7.07     0  0.469  ...  242     17.8  396.90   9.14  21.6\n",
            "2  0.02729   0.0   7.07     0  0.469  ...  242     17.8  392.83   4.03  34.7\n",
            "3  0.03237   0.0   2.18     0  0.458  ...  222     18.7  394.63   2.94  33.4\n",
            "4  0.06905   0.0   2.18     0  0.458  ...  222     18.7  396.90   5.33  36.2\n",
            "\n",
            "[5 rows x 14 columns]\n",
            "\n",
            "Missing Values:\n",
            " crim       0\n",
            "zn         0\n",
            "indus      0\n",
            "chas       0\n",
            "nox        0\n",
            "rm         0\n",
            "age        0\n",
            "dis        0\n",
            "rad        0\n",
            "tax        0\n",
            "ptratio    0\n",
            "b          0\n",
            "lstat      0\n",
            "medv       0\n",
            "dtype: int64\n"
          ]
        }
      ],
      "source": [
        "import pandas as pd\n",
        "import numpy as np\n",
        "import seaborn as sns\n",
        "import matplotlib.pyplot as plt\n",
        "from sklearn.preprocessing import LabelEncoder, StandardScaler, MinMaxScaler\n",
        "url = \"https://raw.githubusercontent.com/selva86/datasets/master/BostonHousing.csv\"\n",
        "df = pd.read_csv(url)\n",
        "print(df.info())\n",
        "print(df.head())\n",
        "print(\"\\nMissing Values:\\n\", df.isnull().sum())\n",
        "\n"
      ]
    },
    {
      "cell_type": "code",
      "source": [
        "df.loc[5:10, 'crim'] = np.nan\n",
        "df.loc[15:18, 'age'] = np.nan"
      ],
      "metadata": {
        "id": "MiL4Ch2fAtc1"
      },
      "execution_count": 4,
      "outputs": []
    },
    {
      "cell_type": "code",
      "source": [
        "# impute missing values\n",
        "df['crim'] = df['crim'].fillna(df['crim'].mean())\n",
        "df['age'] = df['age'].fillna(df['age'].mean())"
      ],
      "metadata": {
        "id": "6L0sVbfyA8N0"
      },
      "execution_count": 5,
      "outputs": []
    },
    {
      "cell_type": "code",
      "source": [
        "# Detect outlier using IQR\n",
        "Q1 = df.quantile(0.25)\n",
        "Q3 = df.quantile(0.75)\n",
        "IQR = Q3 - Q1\n",
        "print(IQR)"
      ],
      "metadata": {
        "colab": {
          "base_uri": "https://localhost:8080/"
        },
        "id": "XAMMueA8BN1s",
        "outputId": "39fe51bb-f2ec-46f6-d5c3-6f20e8af02f9"
      },
      "execution_count": 6,
      "outputs": [
        {
          "output_type": "stream",
          "name": "stdout",
          "text": [
            "crim         3.594815\n",
            "zn          12.500000\n",
            "indus       12.910000\n",
            "chas         0.000000\n",
            "nox          0.175000\n",
            "rm           0.738000\n",
            "age         48.625000\n",
            "dis          3.088250\n",
            "rad         20.000000\n",
            "tax        387.000000\n",
            "ptratio      2.800000\n",
            "b           20.847500\n",
            "lstat       10.005000\n",
            "medv         7.975000\n",
            "dtype: float64\n"
          ]
        }
      ]
    },
    {
      "cell_type": "code",
      "source": [
        "outliers = df[(df['tax'] < (Q1['tax'] - 1.5 *IQR['tax'])) | (df['tax'] > (Q3['tax'] + 1.5 *IQR['tax']))]\n",
        "print(outliers)"
      ],
      "metadata": {
        "colab": {
          "base_uri": "https://localhost:8080/"
        },
        "id": "De0Z3UlwCBzU",
        "outputId": "1cc6d821-4c5c-4e8d-9316-9188b2873e75"
      },
      "execution_count": 8,
      "outputs": [
        {
          "output_type": "stream",
          "name": "stdout",
          "text": [
            "Empty DataFrame\n",
            "Columns: [crim, zn, indus, chas, nox, rm, age, dis, rad, tax, ptratio, b, lstat, medv]\n",
            "Index: []\n"
          ]
        }
      ]
    },
    {
      "cell_type": "code",
      "source": [
        "# create boxplot\n",
        "sns.boxplot(x=df['tax'])\n",
        "plt.show()"
      ],
      "metadata": {
        "colab": {
          "base_uri": "https://localhost:8080/",
          "height": 449
        },
        "id": "m8AGe212EN8i",
        "outputId": "2c40c0c1-22c5-44ba-c216-39e2ce8759e7"
      },
      "execution_count": 9,
      "outputs": [
        {
          "output_type": "display_data",
          "data": {
            "text/plain": [
              "<Figure size 640x480 with 1 Axes>"
            ],
            "image/png": "[encoded data removed]"
          },
          "metadata": {}
        }
      ]
    },
    {
      "cell_type": "code",
      "source": [
        "print(df.head())"
      ],
      "metadata": {
        "colab": {
          "base_uri": "https://localhost:8080/"
        },
        "id": "FeAK1U3MFTMy",
        "outputId": "0687d027-de96-41dc-f4bf-e146123321fb"
      },
      "execution_count": 10,
      "outputs": [
        {
          "output_type": "stream",
          "name": "stdout",
          "text": [
            "      crim    zn  indus  chas    nox  ...  tax  ptratio       b  lstat  medv\n",
            "0  0.00632  18.0   2.31     0  0.538  ...  296     15.3  396.90   4.98  24.0\n",
            "1  0.02731   0.0   7.07     0  0.469  ...  242     17.8  396.90   9.14  21.6\n",
            "2  0.02729   0.0   7.07     0  0.469  ...  242     17.8  392.83   4.03  34.7\n",
            "3  0.03237   0.0   2.18     0  0.458  ...  222     18.7  394.63   2.94  33.4\n",
            "4  0.06905   0.0   2.18     0  0.458  ...  222     18.7  396.90   5.33  36.2\n",
            "\n",
            "[5 rows x 14 columns]\n"
          ]
        }
      ]
    },
    {
      "cell_type": "code",
      "source": [
        "# prompt: add coloumn\n",
        "\n",
        "# create new coloumn\n",
        "df['new_col'] = df['tax'] * 2\n",
        "print(df.head())"
      ],
      "metadata": {
        "colab": {
          "base_uri": "https://localhost:8080/"
        },
        "id": "Fmb-kVDDE4S6",
        "outputId": "6bab8e11-c567-4077-8b1e-c094afafb342"
      },
      "execution_count": 11,
      "outputs": [
        {
          "output_type": "stream",
          "name": "stdout",
          "text": [
            "      crim    zn  indus  chas    nox  ...  ptratio       b  lstat  medv  new_col\n",
            "0  0.00632  18.0   2.31     0  0.538  ...     15.3  396.90   4.98  24.0      592\n",
            "1  0.02731   0.0   7.07     0  0.469  ...     17.8  396.90   9.14  21.6      484\n",
            "2  0.02729   0.0   7.07     0  0.469  ...     17.8  392.83   4.03  34.7      484\n",
            "3  0.03237   0.0   2.18     0  0.458  ...     18.7  394.63   2.94  33.4      444\n",
            "4  0.06905   0.0   2.18     0  0.458  ...     18.7  396.90   5.33  36.2      444\n",
            "\n",
            "[5 rows x 15 columns]\n"
          ]
        }
      ]
    },
    {
      "cell_type": "code",
      "source": [
        "\n",
        "df['neighbour'] = [1, 2, 3] * (len(df) // 3) + [1, 2, 3][:len(df) % 3]\n",
        "df['neighbor'] = [1, 2, 3] * (len(df) // 3) + [1, 2, 3][:len(df) % 3]\n",
        "print(df.head())"
      ],
      "metadata": {
        "colab": {
          "base_uri": "https://localhost:8080/"
        },
        "id": "ofV8WmEbFwPC",
        "outputId": "8f8470a4-a5c6-4fad-dbb0-df6f2bc77881"
      },
      "execution_count": 12,
      "outputs": [
        {
          "output_type": "stream",
          "name": "stdout",
          "text": [
            "      crim    zn  indus  chas    nox  ...  lstat  medv  new_col  neighbour  neighbor\n",
            "0  0.00632  18.0   2.31     0  0.538  ...   4.98  24.0      592          1         1\n",
            "1  0.02731   0.0   7.07     0  0.469  ...   9.14  21.6      484          2         2\n",
            "2  0.02729   0.0   7.07     0  0.469  ...   4.03  34.7      484          3         3\n",
            "3  0.03237   0.0   2.18     0  0.458  ...   2.94  33.4      444          1         1\n",
            "4  0.06905   0.0   2.18     0  0.458  ...   5.33  36.2      444          2         2\n",
            "\n",
            "[5 rows x 17 columns]\n"
          ]
        }
      ]
    }
  ]
}